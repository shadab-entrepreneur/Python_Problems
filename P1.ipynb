{
 "cells": [
  {
   "cell_type": "markdown",
   "metadata": {},
   "source": [
    "### Problem Statement:   \n",
    "\n",
    "A man must travel for given number of days by bus. He can buy either:\n",
    "1-day ticket for Rs 2 (valid for 1 day)\n",
    "7 days ticket for Rs 7 (valid for 7 consecutive days)\n",
    "30 days ticket for Rs 25 (valid for 30 consecutive days)\n",
    "We are given an array; whose elements are the day numbers on which he travels.\n",
    "\n",
    "For example, if the given array is {1,3,5,8,9,10} then he travels on these 6 days. Now we must minimize the cost of his travel. What would be the best approach to solve this problem?"
   ]
  },
  {
   "cell_type": "code",
   "execution_count": 26,
   "metadata": {},
   "outputs": [
    {
     "name": "stdout",
     "output_type": "stream",
     "text": [
      "minimum cost = 13\n"
     ]
    }
   ],
   "source": [
    "from operator import itemgetter\n",
    "travel_dates = [1,2,4,5,7,15,29,30]\n",
    "# travel_dates = [1,3,5,8,9,10]\n",
    "# travel_dates = [1,7,8,9,10,23,28]\n",
    "\n",
    "\n",
    "'''\n",
    "this function will mark all the number of days he is travelling as 1 and\n",
    "the number of days on which he is not travelling as zero\n",
    "it will return a normalize list of 0 and 1,, eg. [1,0,0,1,...,0,1,1,1]\n",
    "''' \n",
    "def normalization(dates):\n",
    "    l1 = 30\n",
    "    a1 = []\n",
    "    for i in range(l1):\n",
    "        a1.append(1 if (i+1) in dates else 0)\n",
    "#     print(\"a1\", a1)\n",
    "    return a1\n",
    "\n",
    "'''\n",
    "this function will return a list of tuple with day number at index 0 and max number of days possible in a week from that day\n",
    "'''\n",
    "def week_calc(d):\n",
    "    L = len(d)\n",
    "#     print(\"d\", L)\n",
    "    result = []\n",
    "    for i in range(L):\n",
    "        s = sum(d[i:i+7]) #this will sum the number of days from that index\n",
    "        result.append((i,s)) \n",
    "#     print(\"result\", result)\n",
    "    return result\n",
    "\n",
    "d1 = normalization(travel_dates)\n",
    "min_cost = 0\n",
    "\n",
    "#while loop here is used to calculate the cost of total minimum number of weekly passes possible\n",
    "while True:\n",
    "    a = week_calc(d1)\n",
    "    a.sort(key = itemgetter(1)) #this sorts the list returned by group_func based on the key value 1\n",
    "#     print(\"a \", a)\n",
    "    m = a[-1][1]\n",
    "#     print(\"m\", m)\n",
    "    if m < 4: #this condition check if the number if days left in the list is less than 4 \n",
    "        break\n",
    "    for q in a:\n",
    "        if q[1] == m: #this finds best out of the max num of days in a week possible from a particualr day\n",
    "            w = q\n",
    "#             print(\"w\", w)\n",
    "            break\n",
    "    d1[w[0]:w[0]+7] = [0]*7  #initializing those elements to 0 which we included in the week pass\n",
    "#     print(\"d1\", d1)\n",
    "    min_cost += 7 \n",
    "#     print(\"mincost\", min_cost)\n",
    "\n",
    "#this will add up the cost of weekly pass and the cost of total number of days left out after that\n",
    "min_cost += d1.count(1) * 2\n",
    "\n",
    "'''\n",
    "the minimum cost out of the total calculate minimum cost and monthly cost will be taken \n",
    "'''\n",
    "answer = min(25,min_cost)\n",
    "\n",
    "# Print Final Answer\n",
    "print (\"minimum cost = \" + str(answer))"
   ]
  },
  {
   "cell_type": "code",
   "execution_count": null,
   "metadata": {},
   "outputs": [],
   "source": []
  }
 ],
 "metadata": {
  "kernelspec": {
   "display_name": "Python 3",
   "language": "python",
   "name": "python3"
  },
  "language_info": {
   "codemirror_mode": {
    "name": "ipython",
    "version": 3
   },
   "file_extension": ".py",
   "mimetype": "text/x-python",
   "name": "python",
   "nbconvert_exporter": "python",
   "pygments_lexer": "ipython3",
   "version": "3.6.5"
  }
 },
 "nbformat": 4,
 "nbformat_minor": 2
}
